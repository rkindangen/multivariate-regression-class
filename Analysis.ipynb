{
 "cells": [
  {
   "cell_type": "code",
   "execution_count": 1,
   "metadata": {},
   "outputs": [],
   "source": [
    "import pandas as pd\n",
    "import numpy as np\n",
    "import seaborn as sns"
   ]
  },
  {
   "cell_type": "code",
   "execution_count": 2,
   "metadata": {},
   "outputs": [],
   "source": [
    "df_f = pd.read_csv('df_final.csv')"
   ]
  },
  {
   "cell_type": "code",
   "execution_count": 3,
   "metadata": {},
   "outputs": [],
   "source": [
    "#df_f.drop(columns = ['album_artist_link', 'album_link', 'album_name', 'album_release_year', 'Unnamed: 0'], inplace = True)\n",
    "df_f.dropna(inplace = True)\n"
   ]
  },
  {
   "cell_type": "code",
   "execution_count": 4,
   "metadata": {},
   "outputs": [
    {
     "name": "stdout",
     "output_type": "stream",
     "text": [
      "<class 'pandas.core.frame.DataFrame'>\n",
      "Int64Index: 278 entries, 0 to 304\n",
      "Data columns (total 15 columns):\n",
      " #   Column               Non-Null Count  Dtype  \n",
      "---  ------               --------------  -----  \n",
      " 0   Unnamed: 0           278 non-null    int64  \n",
      " 1   album_release_year   278 non-null    int64  \n",
      " 2   album_name           278 non-null    object \n",
      " 3   album_link           278 non-null    object \n",
      " 4   album_artist_link    278 non-null    object \n",
      " 5   total_albums_artist  278 non-null    float64\n",
      " 6   users_have           278 non-null    float64\n",
      " 7   users_want           278 non-null    float64\n",
      " 8   user_rating          278 non-null    float64\n",
      " 9   total_rating         278 non-null    float64\n",
      " 10  lowest_price         278 non-null    float64\n",
      " 11  median_price         278 non-null    float64\n",
      " 12  highest_price        278 non-null    float64\n",
      " 13  total_versions       278 non-null    float64\n",
      " 14  years_since_release  278 non-null    int64  \n",
      "dtypes: float64(9), int64(3), object(3)\n",
      "memory usage: 34.8+ KB\n"
     ]
    }
   ],
   "source": [
    "df_f.info()"
   ]
  },
  {
   "cell_type": "code",
   "execution_count": 159,
   "metadata": {},
   "outputs": [],
   "source": [
    "# percentile25_Y = df_f['highest_price'].quantile(0.25)\n",
    "# percentile75_Y = df_f['highest_price'].quantile(0.75)\n",
    "# df_f = df_f[df_f['highest_price'] > percentile25_Y]\n",
    "# df_f = df_f[df_f['highest_price'] < percentile75_Y]"
   ]
  },
  {
   "cell_type": "code",
   "execution_count": 160,
   "metadata": {},
   "outputs": [
    {
     "name": "stdout",
     "output_type": "stream",
     "text": [
      "<class 'pandas.core.frame.DataFrame'>\n",
      "Int64Index: 278 entries, 0 to 304\n",
      "Data columns (total 10 columns):\n",
      " #   Column               Non-Null Count  Dtype  \n",
      "---  ------               --------------  -----  \n",
      " 0   total_albums_artist  278 non-null    float64\n",
      " 1   users_have           278 non-null    float64\n",
      " 2   users_want           278 non-null    float64\n",
      " 3   user_rating          278 non-null    float64\n",
      " 4   total_rating         278 non-null    float64\n",
      " 5   lowest_price         278 non-null    float64\n",
      " 6   median_price         278 non-null    float64\n",
      " 7   highest_price        278 non-null    float64\n",
      " 8   total_versions       278 non-null    float64\n",
      " 9   years_since_release  278 non-null    int64  \n",
      "dtypes: float64(9), int64(1)\n",
      "memory usage: 23.9 KB\n"
     ]
    }
   ],
   "source": [
    "df_f.info()"
   ]
  },
  {
   "cell_type": "code",
   "execution_count": 189,
   "metadata": {},
   "outputs": [],
   "source": [
    "def simple_regression(df):\n",
    "    #seperate train and test \n",
    "    trainX = np.array(df.X[95:len(df.X)]).reshape(-1,1)\n",
    "    trainY = np.array(df.Y[95:len(df.Y)]).reshape(-1,1)\n",
    "    testX = np.array(df.X[:95]).reshape(-1,1)\n",
    "    testY = np.array(df.Y[:95]).reshape(-1,1)\n",
    "    #linear regression model\n",
    "    model = linear_model.LinearRegression()\n",
    "    model.fit(trainX, trainY)\n",
    "    pred = model.predict(testX)\n",
    "    r2 = model.score(trainX, trainY) * 100\n",
    "    adj_r2 = 100 *(1 - (1-model.score(trainX, trainY))*(len(trainY)-1)/(len(trainY)-trainX.shape[1]-1))\n",
    "    rmsd = np.sqrt(mean_squared_error(testY, pred))\n",
    "    \n",
    "    plt.scatter(x = df.X, y = df.Y)\n",
    "    plt.plot(testX, pred)\n",
    "    plt.show()\n",
    "    \n",
    "    print({'model':model, 'r2':r2, 'adj_r2': adj_r2, 'rmsd':rmsd})\n",
    "    \n",
    "def iqr_filtering(df):\n",
    "    iqr = 1\n",
    "    percentile25_X = df.X.quantile(0.25)\n",
    "    percentile75_X = df.X.quantile(0.75)\n",
    "    df = df[df.X > percentile25_X]\n",
    "    df = df[df.X < percentile75_X]\n",
    "\n",
    "    return df"
   ]
  },
  {
   "cell_type": "markdown",
   "metadata": {},
   "source": [
    "What determines the median price for a vinyl album? \n",
    "- Rarity? -> lower proportion of users have / users want means its more rare \n",
    "- total versions \n",
    "- user rating of album \n",
    "- years since release "
   ]
  },
  {
   "cell_type": "code",
   "execution_count": 6,
   "metadata": {},
   "outputs": [],
   "source": [
    "#calculate rarirty \n",
    "df_f['rarity'] = df_f['users_want'] / df_f['users_have'] "
   ]
  },
  {
   "cell_type": "code",
   "execution_count": 7,
   "metadata": {},
   "outputs": [
    {
     "data": {
      "text/html": [
       "<div>\n",
       "<style scoped>\n",
       "    .dataframe tbody tr th:only-of-type {\n",
       "        vertical-align: middle;\n",
       "    }\n",
       "\n",
       "    .dataframe tbody tr th {\n",
       "        vertical-align: top;\n",
       "    }\n",
       "\n",
       "    .dataframe thead th {\n",
       "        text-align: right;\n",
       "    }\n",
       "</style>\n",
       "<table border=\"1\" class=\"dataframe\">\n",
       "  <thead>\n",
       "    <tr style=\"text-align: right;\">\n",
       "      <th></th>\n",
       "      <th>Unnamed: 0</th>\n",
       "      <th>album_release_year</th>\n",
       "      <th>album_name</th>\n",
       "      <th>album_link</th>\n",
       "      <th>album_artist_link</th>\n",
       "      <th>total_albums_artist</th>\n",
       "      <th>users_have</th>\n",
       "      <th>users_want</th>\n",
       "      <th>user_rating</th>\n",
       "      <th>total_rating</th>\n",
       "      <th>lowest_price</th>\n",
       "      <th>median_price</th>\n",
       "      <th>highest_price</th>\n",
       "      <th>total_versions</th>\n",
       "      <th>years_since_release</th>\n",
       "      <th>rarity</th>\n",
       "    </tr>\n",
       "  </thead>\n",
       "  <tbody>\n",
       "    <tr>\n",
       "      <th>0</th>\n",
       "      <td>0</td>\n",
       "      <td>1973</td>\n",
       "      <td>The Dark Side Of The Moon</td>\n",
       "      <td>https://www.discogs.com/master/10362-Pink-Floy...</td>\n",
       "      <td>https://www.discogs.com/artist/45467-Pink-Floyd</td>\n",
       "      <td>62.0</td>\n",
       "      <td>33460.0</td>\n",
       "      <td>10294.0</td>\n",
       "      <td>4.66</td>\n",
       "      <td>3245.0</td>\n",
       "      <td>10.00</td>\n",
       "      <td>28.98</td>\n",
       "      <td>250.00</td>\n",
       "      <td>111.0</td>\n",
       "      <td>49</td>\n",
       "      <td>0.307651</td>\n",
       "    </tr>\n",
       "    <tr>\n",
       "      <th>1</th>\n",
       "      <td>1</td>\n",
       "      <td>1967</td>\n",
       "      <td>Sgt. Pepper's Lonely Hearts Club Band</td>\n",
       "      <td>https://www.discogs.com/master/23934-The-Beatl...</td>\n",
       "      <td>https://www.discogs.com/artist/82730-The-Beatles</td>\n",
       "      <td>157.0</td>\n",
       "      <td>1498.0</td>\n",
       "      <td>1015.0</td>\n",
       "      <td>4.54</td>\n",
       "      <td>137.0</td>\n",
       "      <td>22.56</td>\n",
       "      <td>50.48</td>\n",
       "      <td>72.12</td>\n",
       "      <td>5.0</td>\n",
       "      <td>55</td>\n",
       "      <td>0.677570</td>\n",
       "    </tr>\n",
       "    <tr>\n",
       "      <th>2</th>\n",
       "      <td>2</td>\n",
       "      <td>1969</td>\n",
       "      <td>Abbey Road</td>\n",
       "      <td>https://www.discogs.com/master/24047-The-Beatl...</td>\n",
       "      <td>https://www.discogs.com/artist/82730-The-Beatles</td>\n",
       "      <td>157.0</td>\n",
       "      <td>978.0</td>\n",
       "      <td>899.0</td>\n",
       "      <td>4.52</td>\n",
       "      <td>122.0</td>\n",
       "      <td>9.02</td>\n",
       "      <td>45.11</td>\n",
       "      <td>89.99</td>\n",
       "      <td>27.0</td>\n",
       "      <td>53</td>\n",
       "      <td>0.919223</td>\n",
       "    </tr>\n",
       "    <tr>\n",
       "      <th>3</th>\n",
       "      <td>3</td>\n",
       "      <td>1975</td>\n",
       "      <td>Wish You Were Here</td>\n",
       "      <td>https://www.discogs.com/master/11703-Pink-Floy...</td>\n",
       "      <td>https://www.discogs.com/artist/45467-Pink-Floyd</td>\n",
       "      <td>62.0</td>\n",
       "      <td>3822.0</td>\n",
       "      <td>1115.0</td>\n",
       "      <td>4.52</td>\n",
       "      <td>361.0</td>\n",
       "      <td>11.36</td>\n",
       "      <td>18.18</td>\n",
       "      <td>75.00</td>\n",
       "      <td>22.0</td>\n",
       "      <td>47</td>\n",
       "      <td>0.291732</td>\n",
       "    </tr>\n",
       "    <tr>\n",
       "      <th>4</th>\n",
       "      <td>4</td>\n",
       "      <td>1977</td>\n",
       "      <td>Rumours</td>\n",
       "      <td>https://www.discogs.com/master/38722-Fleetwood...</td>\n",
       "      <td>https://www.discogs.com/artist/47333-Fleetwood...</td>\n",
       "      <td>120.0</td>\n",
       "      <td>4508.0</td>\n",
       "      <td>1077.0</td>\n",
       "      <td>4.35</td>\n",
       "      <td>531.0</td>\n",
       "      <td>5.68</td>\n",
       "      <td>17.05</td>\n",
       "      <td>39.77</td>\n",
       "      <td>18.0</td>\n",
       "      <td>45</td>\n",
       "      <td>0.238909</td>\n",
       "    </tr>\n",
       "  </tbody>\n",
       "</table>\n",
       "</div>"
      ],
      "text/plain": [
       "   Unnamed: 0  album_release_year                             album_name  \\\n",
       "0           0                1973              The Dark Side Of The Moon   \n",
       "1           1                1967  Sgt. Pepper's Lonely Hearts Club Band   \n",
       "2           2                1969                             Abbey Road   \n",
       "3           3                1975                     Wish You Were Here   \n",
       "4           4                1977                                Rumours   \n",
       "\n",
       "                                          album_link  \\\n",
       "0  https://www.discogs.com/master/10362-Pink-Floy...   \n",
       "1  https://www.discogs.com/master/23934-The-Beatl...   \n",
       "2  https://www.discogs.com/master/24047-The-Beatl...   \n",
       "3  https://www.discogs.com/master/11703-Pink-Floy...   \n",
       "4  https://www.discogs.com/master/38722-Fleetwood...   \n",
       "\n",
       "                                   album_artist_link  total_albums_artist  \\\n",
       "0    https://www.discogs.com/artist/45467-Pink-Floyd                 62.0   \n",
       "1   https://www.discogs.com/artist/82730-The-Beatles                157.0   \n",
       "2   https://www.discogs.com/artist/82730-The-Beatles                157.0   \n",
       "3    https://www.discogs.com/artist/45467-Pink-Floyd                 62.0   \n",
       "4  https://www.discogs.com/artist/47333-Fleetwood...                120.0   \n",
       "\n",
       "   users_have  users_want  user_rating  total_rating  lowest_price  \\\n",
       "0     33460.0     10294.0         4.66        3245.0         10.00   \n",
       "1      1498.0      1015.0         4.54         137.0         22.56   \n",
       "2       978.0       899.0         4.52         122.0          9.02   \n",
       "3      3822.0      1115.0         4.52         361.0         11.36   \n",
       "4      4508.0      1077.0         4.35         531.0          5.68   \n",
       "\n",
       "   median_price  highest_price  total_versions  years_since_release    rarity  \n",
       "0         28.98         250.00           111.0                   49  0.307651  \n",
       "1         50.48          72.12             5.0                   55  0.677570  \n",
       "2         45.11          89.99            27.0                   53  0.919223  \n",
       "3         18.18          75.00            22.0                   47  0.291732  \n",
       "4         17.05          39.77            18.0                   45  0.238909  "
      ]
     },
     "execution_count": 7,
     "metadata": {},
     "output_type": "execute_result"
    }
   ],
   "source": [
    "df_f.head()"
   ]
  },
  {
   "cell_type": "code",
   "execution_count": 194,
   "metadata": {},
   "outputs": [],
   "source": [
    "variables = ['total_albums_artist', 'users_have', 'users_want', 'user_rating',\n",
    "       'total_rating', 'lowest_price', 'median_price', 'total_versions', 'years_since_release', 'rarity_1', 'rarity_2']"
   ]
  },
  {
   "cell_type": "code",
   "execution_count": 195,
   "metadata": {},
   "outputs": [
    {
     "name": "stdout",
     "output_type": "stream",
     "text": [
      "['total_albums_artist', 'users_have', 'users_want', 'user_rating', 'total_rating', 'lowest_price', 'median_price', 'total_versions', 'years_since_release', 'rarity_1', 'rarity_2']\n"
     ]
    }
   ],
   "source": [
    "# variables.remove('highest_price')\n",
    "print(variables)\n"
   ]
  },
  {
   "cell_type": "code",
   "execution_count": 27,
   "metadata": {},
   "outputs": [
    {
     "data": {
      "text/plain": [
       "<AxesSubplot:xlabel='users_have', ylabel='Count'>"
      ]
     },
     "execution_count": 27,
     "metadata": {},
     "output_type": "execute_result"
    },
    {
     "data": {
      "image/png": "[encoded data removed]",
      "text/plain": [
       "<Figure size 432x288 with 1 Axes>"
      ]
     },
     "metadata": {
      "needs_background": "light"
     },
     "output_type": "display_data"
    }
   ],
   "source": [
    "sns.histplot(df_f[df_f['rarity'] > 0.3]['users_have'])"
   ]
  },
  {
   "cell_type": "code",
   "execution_count": 28,
   "metadata": {},
   "outputs": [
    {
     "data": {
      "text/plain": [
       "<AxesSubplot:xlabel='users_have', ylabel='Count'>"
      ]
     },
     "execution_count": 28,
     "metadata": {},
     "output_type": "execute_result"
    },
    {
     "data": {
      "image/png": "[encoded data removed]",
      "text/plain": [
       "<Figure size 432x288 with 1 Axes>"
      ]
     },
     "metadata": {
      "needs_background": "light"
     },
     "output_type": "display_data"
    }
   ],
   "source": [
    "sns.histplot(df_f[df_f['rarity'] > 0.3]['users_have'])"
   ]
  },
  {
   "cell_type": "code",
   "execution_count": 29,
   "metadata": {},
   "outputs": [
    {
     "data": {
      "text/plain": [
       "<AxesSubplot:xlabel='users_want', ylabel='Count'>"
      ]
     },
     "execution_count": 29,
     "metadata": {},
     "output_type": "execute_result"
    },
    {
     "data": {
      "image/png": "[encoded data removed]",
      "text/plain": [
       "<Figure size 432x288 with 1 Axes>"
      ]
     },
     "metadata": {
      "needs_background": "light"
     },
     "output_type": "display_data"
    }
   ],
   "source": [
    "sns.histplot(df_f[df_f['rarity'] > 0.3]['users_want'])"
   ]
  },
  {
   "cell_type": "code",
   "execution_count": 30,
   "metadata": {},
   "outputs": [
    {
     "data": {
      "text/plain": [
       "<AxesSubplot:xlabel='users_have', ylabel='Count'>"
      ]
     },
     "execution_count": 30,
     "metadata": {},
     "output_type": "execute_result"
    },
    {
     "data": {
      "image/png": "[encoded data removed]",
      "text/plain": [
       "<Figure size 432x288 with 1 Axes>"
      ]
     },
     "metadata": {
      "needs_background": "light"
     },
     "output_type": "display_data"
    }
   ],
   "source": [
    "sns.histplot(df_f[df_f['rarity'] < 0.3]['users_have'])"
   ]
  },
  {
   "cell_type": "code",
   "execution_count": 31,
   "metadata": {},
   "outputs": [
    {
     "data": {
      "text/plain": [
       "<AxesSubplot:xlabel='users_want', ylabel='Count'>"
      ]
     },
     "execution_count": 31,
     "metadata": {},
     "output_type": "execute_result"
    },
    {
     "data": {
      "image/png": "[encoded data removed]",
      "text/plain": [
       "<Figure size 432x288 with 1 Axes>"
      ]
     },
     "metadata": {
      "needs_background": "light"
     },
     "output_type": "display_data"
    }
   ],
   "source": [
    "sns.histplot(df_f[df_f['rarity'] < 0.3]['users_want'])"
   ]
  },
  {
   "cell_type": "code",
   "execution_count": 46,
   "metadata": {},
   "outputs": [
    {
     "data": {
      "text/plain": [
       "<AxesSubplot:xlabel='users_have', ylabel='Count'>"
      ]
     },
     "execution_count": 46,
     "metadata": {},
     "output_type": "execute_result"
    },
    {
     "data": {
      "image/png": "[encoded data removed]",
      "text/plain": [
       "<Figure size 432x288 with 1 Axes>"
      ]
     },
     "metadata": {
      "needs_background": "light"
     },
     "output_type": "display_data"
    }
   ],
   "source": [
    "df_f[df_f['median_price'] > 20]['users_want']\n",
    "sns.histplot(df_f[df_f['median_price'] > 20]['users_have'])"
   ]
  },
  {
   "cell_type": "code",
   "execution_count": 14,
   "metadata": {},
   "outputs": [
    {
     "data": {
      "text/plain": [
       "[Text(0.5, 1.0, 'Users_have vs. Median Price for Rarity < 0.3 and Median Price < 30')]"
      ]
     },
     "execution_count": 14,
     "metadata": {},
     "output_type": "execute_result"
    },
    {
     "data": {
      "image/png": "[encoded data removed]",
      "text/plain": [
       "<Figure size 432x288 with 1 Axes>"
      ]
     },
     "metadata": {
      "needs_background": "light"
     },
     "output_type": "display_data"
    }
   ],
   "source": [
    "sns.scatterplot(x = 'users_have', y = 'median_price', data = df_f[(df_f['median_price'] < 30) & (df_f['rarity'] < 0.3)]).set(title = \"Users_have vs. Median Price for Rarity < 0.3 and Median Price < 30\")"
   ]
  },
  {
   "cell_type": "code",
   "execution_count": 15,
   "metadata": {},
   "outputs": [
    {
     "data": {
      "text/plain": [
       "[Text(0.5, 1.0, 'Users_want vs. Median Price for Rarity < 0.3 and Median Price < 30')]"
      ]
     },
     "execution_count": 15,
     "metadata": {},
     "output_type": "execute_result"
    },
    {
     "data": {
      "image/png": "[encoded data removed]",
      "text/plain": [
       "<Figure size 432x288 with 1 Axes>"
      ]
     },
     "metadata": {
      "needs_background": "light"
     },
     "output_type": "display_data"
    }
   ],
   "source": [
    "sns.scatterplot(x = 'users_want', y = 'median_price', data = df_f[(df_f['median_price'] < 30) & (df_f['rarity'] < 0.3)]).set(title = \"Users_want vs. Median Price for Rarity < 0.3 and Median Price < 30\")\n",
    "                \n",
    "                \n",
    "                "
   ]
  },
  {
   "cell_type": "code",
   "execution_count": 59,
   "metadata": {},
   "outputs": [
    {
     "data": {
      "text/plain": [
       "<AxesSubplot:xlabel='rarity', ylabel='median_price'>"
      ]
     },
     "execution_count": 59,
     "metadata": {},
     "output_type": "execute_result"
    },
    {
     "data": {
      "image/png": "[encoded data removed]",
      "text/plain": [
       "<Figure size 432x288 with 1 Axes>"
      ]
     },
     "metadata": {
      "needs_background": "light"
     },
     "output_type": "display_data"
    }
   ],
   "source": [
    "sns.scatterplot(x = 'rarity', y = 'median_price', data = df_f[(df_f['median_price'] < 100) & (df_f['rarity'] < 0.3)])\n"
   ]
  },
  {
   "cell_type": "code",
   "execution_count": 70,
   "metadata": {},
   "outputs": [
    {
     "data": {
      "text/html": [
       "<div>\n",
       "<style scoped>\n",
       "    .dataframe tbody tr th:only-of-type {\n",
       "        vertical-align: middle;\n",
       "    }\n",
       "\n",
       "    .dataframe tbody tr th {\n",
       "        vertical-align: top;\n",
       "    }\n",
       "\n",
       "    .dataframe thead th {\n",
       "        text-align: right;\n",
       "    }\n",
       "</style>\n",
       "<table border=\"1\" class=\"dataframe\">\n",
       "  <thead>\n",
       "    <tr style=\"text-align: right;\">\n",
       "      <th></th>\n",
       "      <th>years_since_release</th>\n",
       "      <th>total_versions</th>\n",
       "      <th>album_name</th>\n",
       "      <th>rarity</th>\n",
       "      <th>users_have</th>\n",
       "      <th>users_want</th>\n",
       "    </tr>\n",
       "  </thead>\n",
       "  <tbody>\n",
       "    <tr>\n",
       "      <th>16</th>\n",
       "      <td>52</td>\n",
       "      <td>6.0</td>\n",
       "      <td>Led Zeppelin III</td>\n",
       "      <td>2.155039</td>\n",
       "      <td>387.0</td>\n",
       "      <td>834.0</td>\n",
       "    </tr>\n",
       "    <tr>\n",
       "      <th>19</th>\n",
       "      <td>45</td>\n",
       "      <td>2.0</td>\n",
       "      <td>Animals</td>\n",
       "      <td>3.844961</td>\n",
       "      <td>129.0</td>\n",
       "      <td>496.0</td>\n",
       "    </tr>\n",
       "    <tr>\n",
       "      <th>131</th>\n",
       "      <td>54</td>\n",
       "      <td>3.0</td>\n",
       "      <td>Beggars Banquet</td>\n",
       "      <td>2.377193</td>\n",
       "      <td>228.0</td>\n",
       "      <td>542.0</td>\n",
       "    </tr>\n",
       "    <tr>\n",
       "      <th>217</th>\n",
       "      <td>53</td>\n",
       "      <td>2.0</td>\n",
       "      <td>David Bowie</td>\n",
       "      <td>6.015385</td>\n",
       "      <td>130.0</td>\n",
       "      <td>782.0</td>\n",
       "    </tr>\n",
       "    <tr>\n",
       "      <th>223</th>\n",
       "      <td>31</td>\n",
       "      <td>2.0</td>\n",
       "      <td>Achtung Baby</td>\n",
       "      <td>3.154122</td>\n",
       "      <td>279.0</td>\n",
       "      <td>880.0</td>\n",
       "    </tr>\n",
       "    <tr>\n",
       "      <th>224</th>\n",
       "      <td>33</td>\n",
       "      <td>2.0</td>\n",
       "      <td>Doolittle</td>\n",
       "      <td>2.760274</td>\n",
       "      <td>146.0</td>\n",
       "      <td>403.0</td>\n",
       "    </tr>\n",
       "    <tr>\n",
       "      <th>283</th>\n",
       "      <td>35</td>\n",
       "      <td>1.0</td>\n",
       "      <td>Kiss Me Kiss Me Kiss Me</td>\n",
       "      <td>2.411765</td>\n",
       "      <td>85.0</td>\n",
       "      <td>205.0</td>\n",
       "    </tr>\n",
       "    <tr>\n",
       "      <th>295</th>\n",
       "      <td>51</td>\n",
       "      <td>2.0</td>\n",
       "      <td>The Allman Brothers Band At Fillmore East</td>\n",
       "      <td>4.120690</td>\n",
       "      <td>58.0</td>\n",
       "      <td>239.0</td>\n",
       "    </tr>\n",
       "  </tbody>\n",
       "</table>\n",
       "</div>"
      ],
      "text/plain": [
       "     years_since_release  total_versions  \\\n",
       "16                    52             6.0   \n",
       "19                    45             2.0   \n",
       "131                   54             3.0   \n",
       "217                   53             2.0   \n",
       "223                   31             2.0   \n",
       "224                   33             2.0   \n",
       "283                   35             1.0   \n",
       "295                   51             2.0   \n",
       "\n",
       "                                    album_name    rarity  users_have  \\\n",
       "16                            Led Zeppelin III  2.155039       387.0   \n",
       "19                                     Animals  3.844961       129.0   \n",
       "131                            Beggars Banquet  2.377193       228.0   \n",
       "217                                David Bowie  6.015385       130.0   \n",
       "223                               Achtung Baby  3.154122       279.0   \n",
       "224                                  Doolittle  2.760274       146.0   \n",
       "283                    Kiss Me Kiss Me Kiss Me  2.411765        85.0   \n",
       "295  The Allman Brothers Band At Fillmore East  4.120690        58.0   \n",
       "\n",
       "     users_want  \n",
       "16        834.0  \n",
       "19        496.0  \n",
       "131       542.0  \n",
       "217       782.0  \n",
       "223       880.0  \n",
       "224       403.0  \n",
       "283       205.0  \n",
       "295       239.0  "
      ]
     },
     "execution_count": 70,
     "metadata": {},
     "output_type": "execute_result"
    }
   ],
   "source": [
    "df_f[df_f['rarity'] > 2][['years_since_release','total_versions','album_name','rarity', 'users_have','users_want']]"
   ]
  },
  {
   "cell_type": "code",
   "execution_count": 90,
   "metadata": {},
   "outputs": [
    {
     "data": {
      "text/plain": [
       "223    https://www.discogs.com/master/20774-U2-Achtun...\n",
       "Name: album_link, dtype: object"
      ]
     },
     "execution_count": 90,
     "metadata": {},
     "output_type": "execute_result"
    }
   ],
   "source": [
    "df_f[df_f['album_name'] == \"Achtung Baby\"]['album_link']"
   ]
  },
  {
   "cell_type": "code",
   "execution_count": 84,
   "metadata": {},
   "outputs": [
    {
     "data": {
      "text/plain": [
       "47.27037037037037"
      ]
     },
     "execution_count": 84,
     "metadata": {},
     "output_type": "execute_result"
    }
   ],
   "source": [
    "df_f[df_f['rarity']<2]['total_versions'].mean()"
   ]
  },
  {
   "cell_type": "code",
   "execution_count": 196,
   "metadata": {},
   "outputs": [
    {
     "name": "stdout",
     "output_type": "stream",
     "text": [
      "total_albums_artist\n"
     ]
    },
    {
     "data": {
      "image/png": "[encoded data removed]",
      "text/plain": [
       "<Figure size 432x288 with 1 Axes>"
      ]
     },
     "metadata": {
      "needs_background": "light"
     },
     "output_type": "display_data"
    },
    {
     "name": "stdout",
     "output_type": "stream",
     "text": [
      "{'model': LinearRegression(), 'r2': 7.3908413801209605, 'adj_r2': 5.075612414623976, 'rmsd': 72.46424149299379}\n",
      "users_have\n"
     ]
    },
    {
     "data": {
      "image/png": "[encoded data removed]",
      "text/plain": [
       "<Figure size 432x288 with 1 Axes>"
      ]
     },
     "metadata": {
      "needs_background": "light"
     },
     "output_type": "display_data"
    },
    {
     "name": "stdout",
     "output_type": "stream",
     "text": [
      "{'model': LinearRegression(), 'r2': 9.919012863123132, 'adj_r2': 7.666988184701218, 'rmsd': 136.47030602342056}\n",
      "users_want\n"
     ]
    },
    {
     "data": {
      "image/png": "[encoded data removed]",
      "text/plain": [
       "<Figure size 432x288 with 1 Axes>"
      ]
     },
     "metadata": {
      "needs_background": "light"
     },
     "output_type": "display_data"
    },
    {
     "name": "stdout",
     "output_type": "stream",
     "text": [
      "{'model': LinearRegression(), 'r2': 4.341511312696755, 'adj_r2': 2.0083774422747225, 'rmsd': 61.54126975357989}\n",
      "user_rating\n"
     ]
    },
    {
     "data": {
      "image/png": "[encoded data removed]",
      "text/plain": [
       "<Figure size 432x288 with 1 Axes>"
      ]
     },
     "metadata": {
      "needs_background": "light"
     },
     "output_type": "display_data"
    },
    {
     "name": "stdout",
     "output_type": "stream",
     "text": [
      "{'model': LinearRegression(), 'r2': 0.38949189535120166, 'adj_r2': -2.3774666631112717, 'rmsd': 94.28463787801732}\n",
      "total_rating\n"
     ]
    },
    {
     "data": {
      "image/png": "[encoded data removed]",
      "text/plain": [
       "<Figure size 432x288 with 1 Axes>"
      ]
     },
     "metadata": {
      "needs_background": "light"
     },
     "output_type": "display_data"
    },
    {
     "name": "stdout",
     "output_type": "stream",
     "text": [
      "{'model': LinearRegression(), 'r2': 10.02417981672471, 'adj_r2': 7.829647617132629, 'rmsd': 133.1049448758436}\n",
      "lowest_price\n"
     ]
    },
    {
     "data": {
      "image/png": "[encoded data removed]",
      "text/plain": [
       "<Figure size 432x288 with 1 Axes>"
      ]
     },
     "metadata": {
      "needs_background": "light"
     },
     "output_type": "display_data"
    },
    {
     "name": "stdout",
     "output_type": "stream",
     "text": [
      "{'model': LinearRegression(), 'r2': 9.501272143411843, 'adj_r2': 7.293986098129201, 'rmsd': 75.37389643853332}\n",
      "median_price\n"
     ]
    },
    {
     "data": {
      "image/png": "[encoded data removed]",
      "text/plain": [
       "<Figure size 432x288 with 1 Axes>"
      ]
     },
     "metadata": {
      "needs_background": "light"
     },
     "output_type": "display_data"
    },
    {
     "name": "stdout",
     "output_type": "stream",
     "text": [
      "{'model': LinearRegression(), 'r2': 3.4563775205657787, 'adj_r2': 0.9809000210931118, 'rmsd': 49.91443084544659}\n",
      "total_versions\n"
     ]
    },
    {
     "data": {
      "image/png": "[encoded data removed]",
      "text/plain": [
       "<Figure size 432x288 with 1 Axes>"
      ]
     },
     "metadata": {
      "needs_background": "light"
     },
     "output_type": "display_data"
    },
    {
     "name": "stdout",
     "output_type": "stream",
     "text": [
      "{'model': LinearRegression(), 'r2': 13.106913483760007, 'adj_r2': 10.624253869010293, 'rmsd': 140.60885850206165}\n",
      "years_since_release\n"
     ]
    },
    {
     "data": {
      "image/png": "[encoded data removed]",
      "text/plain": [
       "<Figure size 432x288 with 1 Axes>"
      ]
     },
     "metadata": {
      "needs_background": "light"
     },
     "output_type": "display_data"
    },
    {
     "name": "stdout",
     "output_type": "stream",
     "text": [
      "{'model': LinearRegression(), 'r2': 1.115144732159501, 'adj_r2': -3.829098031232525, 'rmsd': 78.08478487987257}\n",
      "rarity_1\n"
     ]
    },
    {
     "data": {
      "image/png": "[encoded data removed]",
      "text/plain": [
       "<Figure size 432x288 with 1 Axes>"
      ]
     },
     "metadata": {
      "needs_background": "light"
     },
     "output_type": "display_data"
    },
    {
     "name": "stdout",
     "output_type": "stream",
     "text": [
      "{'model': LinearRegression(), 'r2': 0.0018722955785865913, 'adj_r2': -2.4371064289195, 'rmsd': 91.2580364091207}\n",
      "rarity_2\n"
     ]
    },
    {
     "data": {
      "image/png": "[encoded data removed]",
      "text/plain": [
       "<Figure size 432x288 with 1 Axes>"
      ]
     },
     "metadata": {
      "needs_background": "light"
     },
     "output_type": "display_data"
    },
    {
     "name": "stdout",
     "output_type": "stream",
     "text": [
      "{'model': LinearRegression(), 'r2': 0.9872420841182561, 'adj_r2': -1.4277032309032434, 'rmsd': 111.96080646612788}\n"
     ]
    }
   ],
   "source": [
    "for var in variables:\n",
    "    print(var)\n",
    "    df_plot = pd.DataFrame()\n",
    "    df_plot[var] = df_f[var]\n",
    "    df_plot['highest_price'] = df_f['highest_price']\n",
    "    df_plot.columns = ['X', 'Y']\n",
    "    df_plot.dropna(inplace = True)\n",
    "    \n",
    "    df_plot = iqr_filtering(df_plot)\n",
    "    df_plot.dropna(inplace = True)\n",
    "    simple_regression(df_plot)"
   ]
  },
  {
   "cell_type": "code",
   "execution_count": 198,
   "metadata": {},
   "outputs": [],
   "source": [
    "df_plot = pd.DataFrame()\n",
    "df_plot['rarity_1'] = df_f['rarity_1']\n",
    "df_plot['highest_price'] = df_f['highest_price']\n",
    "df_plot.columns = ['X', 'Y']\n",
    "df_plot = iqr_filtering(df_plot)\n",
    "df_plot.dropna(inplace = True)"
   ]
  },
  {
   "cell_type": "code",
   "execution_count": 204,
   "metadata": {},
   "outputs": [],
   "source": [
    "df_f.to_csv('data.csv')"
   ]
  },
  {
   "cell_type": "code",
   "execution_count": 213,
   "metadata": {},
   "outputs": [
    {
     "data": {
      "text/html": [
       "<div>\n",
       "<style scoped>\n",
       "    .dataframe tbody tr th:only-of-type {\n",
       "        vertical-align: middle;\n",
       "    }\n",
       "\n",
       "    .dataframe tbody tr th {\n",
       "        vertical-align: top;\n",
       "    }\n",
       "\n",
       "    .dataframe thead th {\n",
       "        text-align: right;\n",
       "    }\n",
       "</style>\n",
       "<table border=\"1\" class=\"dataframe\">\n",
       "  <thead>\n",
       "    <tr style=\"text-align: right;\">\n",
       "      <th></th>\n",
       "      <th>Unnamed: 0</th>\n",
       "      <th>album_release_year</th>\n",
       "      <th>album_name</th>\n",
       "      <th>album_link</th>\n",
       "      <th>album_artist_link</th>\n",
       "      <th>total_albums_artist</th>\n",
       "      <th>users_have</th>\n",
       "      <th>users_want</th>\n",
       "      <th>user_rating</th>\n",
       "      <th>total_rating</th>\n",
       "      <th>lowest_price</th>\n",
       "      <th>median_price</th>\n",
       "      <th>highest_price</th>\n",
       "      <th>total_versions</th>\n",
       "      <th>years_since_release</th>\n",
       "      <th>rarity</th>\n",
       "    </tr>\n",
       "  </thead>\n",
       "  <tbody>\n",
       "    <tr>\n",
       "      <th>7</th>\n",
       "      <td>7</td>\n",
       "      <td>1971</td>\n",
       "      <td>Untitled</td>\n",
       "      <td>https://www.discogs.com/master/4300-Led-Zeppel...</td>\n",
       "      <td>https://www.discogs.com/artist/34278-Led-Zeppelin</td>\n",
       "      <td>61.0</td>\n",
       "      <td>752.0</td>\n",
       "      <td>1034.0</td>\n",
       "      <td>4.55</td>\n",
       "      <td>108.0</td>\n",
       "      <td>37.84</td>\n",
       "      <td>114.86</td>\n",
       "      <td>202.64</td>\n",
       "      <td>22.0</td>\n",
       "      <td>51</td>\n",
       "      <td>1.375000</td>\n",
       "    </tr>\n",
       "    <tr>\n",
       "      <th>8</th>\n",
       "      <td>8</td>\n",
       "      <td>1968</td>\n",
       "      <td>The Beatles</td>\n",
       "      <td>https://www.discogs.com/master/46402-The-Beatl...</td>\n",
       "      <td>https://www.discogs.com/artist/82730-The-Beatles</td>\n",
       "      <td>157.0</td>\n",
       "      <td>931.0</td>\n",
       "      <td>731.0</td>\n",
       "      <td>4.47</td>\n",
       "      <td>80.0</td>\n",
       "      <td>32.45</td>\n",
       "      <td>91.23</td>\n",
       "      <td>216.35</td>\n",
       "      <td>6.0</td>\n",
       "      <td>54</td>\n",
       "      <td>0.785177</td>\n",
       "    </tr>\n",
       "    <tr>\n",
       "      <th>12</th>\n",
       "      <td>12</td>\n",
       "      <td>1966</td>\n",
       "      <td>Revolver</td>\n",
       "      <td>https://www.discogs.com/master/45284-The-Beatl...</td>\n",
       "      <td>https://www.discogs.com/artist/82730-The-Beatles</td>\n",
       "      <td>157.0</td>\n",
       "      <td>3179.0</td>\n",
       "      <td>1655.0</td>\n",
       "      <td>4.65</td>\n",
       "      <td>396.0</td>\n",
       "      <td>27.00</td>\n",
       "      <td>105.19</td>\n",
       "      <td>590.91</td>\n",
       "      <td>27.0</td>\n",
       "      <td>56</td>\n",
       "      <td>0.520604</td>\n",
       "    </tr>\n",
       "    <tr>\n",
       "      <th>13</th>\n",
       "      <td>13</td>\n",
       "      <td>1959</td>\n",
       "      <td>Kind Of Blue</td>\n",
       "      <td>https://www.discogs.com/master/5460-Miles-Davi...</td>\n",
       "      <td>https://www.discogs.com/artist/23755-Miles-Davis</td>\n",
       "      <td>155.0</td>\n",
       "      <td>1840.0</td>\n",
       "      <td>3586.0</td>\n",
       "      <td>4.73</td>\n",
       "      <td>315.0</td>\n",
       "      <td>39.99</td>\n",
       "      <td>132.72</td>\n",
       "      <td>299.95</td>\n",
       "      <td>7.0</td>\n",
       "      <td>63</td>\n",
       "      <td>1.948913</td>\n",
       "    </tr>\n",
       "    <tr>\n",
       "      <th>20</th>\n",
       "      <td>20</td>\n",
       "      <td>1987</td>\n",
       "      <td>Appetite For Destruction</td>\n",
       "      <td>https://www.discogs.com/master/9467-Guns-N-Ros...</td>\n",
       "      <td>https://www.discogs.com/artist/124535-Guns-N-R...</td>\n",
       "      <td>17.0</td>\n",
       "      <td>3543.0</td>\n",
       "      <td>4730.0</td>\n",
       "      <td>4.55</td>\n",
       "      <td>483.0</td>\n",
       "      <td>5.00</td>\n",
       "      <td>230.00</td>\n",
       "      <td>499.00</td>\n",
       "      <td>13.0</td>\n",
       "      <td>35</td>\n",
       "      <td>1.335027</td>\n",
       "    </tr>\n",
       "    <tr>\n",
       "      <th>39</th>\n",
       "      <td>39</td>\n",
       "      <td>1986</td>\n",
       "      <td>Master Of Puppets</td>\n",
       "      <td>https://www.discogs.com/master/6495-Metallica-...</td>\n",
       "      <td>https://www.discogs.com/artist/18839-Metallica</td>\n",
       "      <td>134.0</td>\n",
       "      <td>2382.0</td>\n",
       "      <td>1104.0</td>\n",
       "      <td>4.63</td>\n",
       "      <td>281.0</td>\n",
       "      <td>43.77</td>\n",
       "      <td>73.86</td>\n",
       "      <td>113.64</td>\n",
       "      <td>16.0</td>\n",
       "      <td>36</td>\n",
       "      <td>0.463476</td>\n",
       "    </tr>\n",
       "    <tr>\n",
       "      <th>52</th>\n",
       "      <td>52</td>\n",
       "      <td>1979</td>\n",
       "      <td>Unknown Pleasures</td>\n",
       "      <td>https://www.discogs.com/master/4805-Joy-Divisi...</td>\n",
       "      <td>https://www.discogs.com/artist/3898-Joy-Division</td>\n",
       "      <td>8.0</td>\n",
       "      <td>7184.0</td>\n",
       "      <td>7470.0</td>\n",
       "      <td>4.70</td>\n",
       "      <td>1183.0</td>\n",
       "      <td>74.66</td>\n",
       "      <td>183.64</td>\n",
       "      <td>339.77</td>\n",
       "      <td>7.0</td>\n",
       "      <td>43</td>\n",
       "      <td>1.039811</td>\n",
       "    </tr>\n",
       "    <tr>\n",
       "      <th>60</th>\n",
       "      <td>60</td>\n",
       "      <td>1970</td>\n",
       "      <td>Black Sabbath</td>\n",
       "      <td>https://www.discogs.com/master/723-Black-Sabba...</td>\n",
       "      <td>https://www.discogs.com/artist/144998-Black-Sa...</td>\n",
       "      <td>36.0</td>\n",
       "      <td>3421.0</td>\n",
       "      <td>5465.0</td>\n",
       "      <td>4.54</td>\n",
       "      <td>586.0</td>\n",
       "      <td>95.02</td>\n",
       "      <td>271.49</td>\n",
       "      <td>153.85</td>\n",
       "      <td>19.0</td>\n",
       "      <td>52</td>\n",
       "      <td>1.597486</td>\n",
       "    </tr>\n",
       "    <tr>\n",
       "      <th>66</th>\n",
       "      <td>66</td>\n",
       "      <td>1992</td>\n",
       "      <td>Rage Against The Machine</td>\n",
       "      <td>https://www.discogs.com/master/7939-Rage-Again...</td>\n",
       "      <td>https://www.discogs.com/artist/12212-Rage-Agai...</td>\n",
       "      <td>11.0</td>\n",
       "      <td>4473.0</td>\n",
       "      <td>7147.0</td>\n",
       "      <td>4.69</td>\n",
       "      <td>536.0</td>\n",
       "      <td>75.00</td>\n",
       "      <td>198.86</td>\n",
       "      <td>454.53</td>\n",
       "      <td>12.0</td>\n",
       "      <td>30</td>\n",
       "      <td>1.597809</td>\n",
       "    </tr>\n",
       "    <tr>\n",
       "      <th>70</th>\n",
       "      <td>70</td>\n",
       "      <td>1983</td>\n",
       "      <td>Kill 'Em All</td>\n",
       "      <td>https://www.discogs.com/master/6387-Metallica-...</td>\n",
       "      <td>https://www.discogs.com/artist/18839-Metallica</td>\n",
       "      <td>134.0</td>\n",
       "      <td>1641.0</td>\n",
       "      <td>858.0</td>\n",
       "      <td>4.47</td>\n",
       "      <td>194.0</td>\n",
       "      <td>34.03</td>\n",
       "      <td>74.43</td>\n",
       "      <td>107.95</td>\n",
       "      <td>3.0</td>\n",
       "      <td>39</td>\n",
       "      <td>0.522852</td>\n",
       "    </tr>\n",
       "    <tr>\n",
       "      <th>75</th>\n",
       "      <td>75</td>\n",
       "      <td>1971</td>\n",
       "      <td>Hunky Dory</td>\n",
       "      <td>https://www.discogs.com/master/1718-David-Bowi...</td>\n",
       "      <td>https://www.discogs.com/artist/10263-David-Bowie</td>\n",
       "      <td>95.0</td>\n",
       "      <td>3462.0</td>\n",
       "      <td>4632.0</td>\n",
       "      <td>4.49</td>\n",
       "      <td>426.0</td>\n",
       "      <td>20.35</td>\n",
       "      <td>369.31</td>\n",
       "      <td>85.96</td>\n",
       "      <td>2.0</td>\n",
       "      <td>51</td>\n",
       "      <td>1.337955</td>\n",
       "    </tr>\n",
       "    <tr>\n",
       "      <th>90</th>\n",
       "      <td>90</td>\n",
       "      <td>1993</td>\n",
       "      <td>Enter The Wu-Tang (36 Chambers)</td>\n",
       "      <td>https://www.discogs.com/master/25303-Wu-Tang-C...</td>\n",
       "      <td>https://www.discogs.com/artist/11213-Wu-Tang-Clan</td>\n",
       "      <td>15.0</td>\n",
       "      <td>19838.0</td>\n",
       "      <td>12956.0</td>\n",
       "      <td>4.69</td>\n",
       "      <td>2221.0</td>\n",
       "      <td>12.00</td>\n",
       "      <td>87.25</td>\n",
       "      <td>738.64</td>\n",
       "      <td>52.0</td>\n",
       "      <td>29</td>\n",
       "      <td>0.653090</td>\n",
       "    </tr>\n",
       "    <tr>\n",
       "      <th>96</th>\n",
       "      <td>96</td>\n",
       "      <td>1989</td>\n",
       "      <td>Bleach</td>\n",
       "      <td>https://www.discogs.com/master/13773-Nirvana-B...</td>\n",
       "      <td>https://www.discogs.com/artist/125246-Nirvana</td>\n",
       "      <td>8.0</td>\n",
       "      <td>4992.0</td>\n",
       "      <td>2363.0</td>\n",
       "      <td>4.31</td>\n",
       "      <td>496.0</td>\n",
       "      <td>54.05</td>\n",
       "      <td>101.14</td>\n",
       "      <td>399.00</td>\n",
       "      <td>40.0</td>\n",
       "      <td>33</td>\n",
       "      <td>0.473357</td>\n",
       "    </tr>\n",
       "    <tr>\n",
       "      <th>121</th>\n",
       "      <td>121</td>\n",
       "      <td>1967</td>\n",
       "      <td>Axis: Bold As Love</td>\n",
       "      <td>https://www.discogs.com/master/24511-The-Jimi-...</td>\n",
       "      <td>https://www.discogs.com/artist/255672-The-Jimi...</td>\n",
       "      <td>30.0</td>\n",
       "      <td>2316.0</td>\n",
       "      <td>3413.0</td>\n",
       "      <td>4.40</td>\n",
       "      <td>260.0</td>\n",
       "      <td>51.13</td>\n",
       "      <td>135.13</td>\n",
       "      <td>567.57</td>\n",
       "      <td>49.0</td>\n",
       "      <td>55</td>\n",
       "      <td>1.473661</td>\n",
       "    </tr>\n",
       "    <tr>\n",
       "      <th>131</th>\n",
       "      <td>131</td>\n",
       "      <td>1968</td>\n",
       "      <td>Beggars Banquet</td>\n",
       "      <td>https://www.discogs.com/master/30220-Rolling-S...</td>\n",
       "      <td>https://www.discogs.com/artist/20991-The-Rolli...</td>\n",
       "      <td>107.0</td>\n",
       "      <td>228.0</td>\n",
       "      <td>542.0</td>\n",
       "      <td>4.58</td>\n",
       "      <td>38.0</td>\n",
       "      <td>15.00</td>\n",
       "      <td>72.97</td>\n",
       "      <td>202.70</td>\n",
       "      <td>3.0</td>\n",
       "      <td>54</td>\n",
       "      <td>2.377193</td>\n",
       "    </tr>\n",
       "    <tr>\n",
       "      <th>186</th>\n",
       "      <td>186</td>\n",
       "      <td>2001</td>\n",
       "      <td>Discovery</td>\n",
       "      <td>https://www.discogs.com/master/26647-Daft-Punk...</td>\n",
       "      <td>https://www.discogs.com/artist/1289-Daft-Punk</td>\n",
       "      <td>9.0</td>\n",
       "      <td>20639.0</td>\n",
       "      <td>13459.0</td>\n",
       "      <td>4.59</td>\n",
       "      <td>2801.0</td>\n",
       "      <td>18.00</td>\n",
       "      <td>149.32</td>\n",
       "      <td>371.62</td>\n",
       "      <td>45.0</td>\n",
       "      <td>21</td>\n",
       "      <td>0.652115</td>\n",
       "    </tr>\n",
       "    <tr>\n",
       "      <th>199</th>\n",
       "      <td>199</td>\n",
       "      <td>1970</td>\n",
       "      <td>All Things Must Pass</td>\n",
       "      <td>https://www.discogs.com/master/56036-George-Ha...</td>\n",
       "      <td>https://www.discogs.com/artist/243955-George-H...</td>\n",
       "      <td>33.0</td>\n",
       "      <td>7905.0</td>\n",
       "      <td>3863.0</td>\n",
       "      <td>4.43</td>\n",
       "      <td>735.0</td>\n",
       "      <td>20.00</td>\n",
       "      <td>94.58</td>\n",
       "      <td>227.27</td>\n",
       "      <td>41.0</td>\n",
       "      <td>52</td>\n",
       "      <td>0.488678</td>\n",
       "    </tr>\n",
       "    <tr>\n",
       "      <th>201</th>\n",
       "      <td>201</td>\n",
       "      <td>1963</td>\n",
       "      <td>With The Beatles</td>\n",
       "      <td>https://www.discogs.com/master/45729-The-Beatl...</td>\n",
       "      <td>https://www.discogs.com/artist/82730-The-Beatles</td>\n",
       "      <td>157.0</td>\n",
       "      <td>2002.0</td>\n",
       "      <td>1008.0</td>\n",
       "      <td>4.28</td>\n",
       "      <td>250.0</td>\n",
       "      <td>27.03</td>\n",
       "      <td>129.54</td>\n",
       "      <td>300.00</td>\n",
       "      <td>15.0</td>\n",
       "      <td>59</td>\n",
       "      <td>0.503497</td>\n",
       "    </tr>\n",
       "    <tr>\n",
       "      <th>207</th>\n",
       "      <td>207</td>\n",
       "      <td>1970</td>\n",
       "      <td>The Man Who Sold The World</td>\n",
       "      <td>https://www.discogs.com/master/1929-David-Bowi...</td>\n",
       "      <td>https://www.discogs.com/artist/10263-David-Bowie</td>\n",
       "      <td>95.0</td>\n",
       "      <td>4760.0</td>\n",
       "      <td>2738.0</td>\n",
       "      <td>4.27</td>\n",
       "      <td>492.0</td>\n",
       "      <td>25.49</td>\n",
       "      <td>102.16</td>\n",
       "      <td>289.95</td>\n",
       "      <td>31.0</td>\n",
       "      <td>52</td>\n",
       "      <td>0.575210</td>\n",
       "    </tr>\n",
       "    <tr>\n",
       "      <th>217</th>\n",
       "      <td>217</td>\n",
       "      <td>1969</td>\n",
       "      <td>David Bowie</td>\n",
       "      <td>https://www.discogs.com/master/32337-David-Bow...</td>\n",
       "      <td>https://www.discogs.com/artist/10263-David-Bowie</td>\n",
       "      <td>95.0</td>\n",
       "      <td>130.0</td>\n",
       "      <td>782.0</td>\n",
       "      <td>4.29</td>\n",
       "      <td>17.0</td>\n",
       "      <td>170.45</td>\n",
       "      <td>340.34</td>\n",
       "      <td>738.64</td>\n",
       "      <td>2.0</td>\n",
       "      <td>53</td>\n",
       "      <td>6.015385</td>\n",
       "    </tr>\n",
       "    <tr>\n",
       "      <th>223</th>\n",
       "      <td>223</td>\n",
       "      <td>1991</td>\n",
       "      <td>Achtung Baby</td>\n",
       "      <td>https://www.discogs.com/master/20774-U2-Achtun...</td>\n",
       "      <td>https://www.discogs.com/artist/6520-U2</td>\n",
       "      <td>71.0</td>\n",
       "      <td>279.0</td>\n",
       "      <td>880.0</td>\n",
       "      <td>4.42</td>\n",
       "      <td>55.0</td>\n",
       "      <td>50.00</td>\n",
       "      <td>113.64</td>\n",
       "      <td>200.00</td>\n",
       "      <td>2.0</td>\n",
       "      <td>31</td>\n",
       "      <td>3.154122</td>\n",
       "    </tr>\n",
       "    <tr>\n",
       "      <th>227</th>\n",
       "      <td>227</td>\n",
       "      <td>1998</td>\n",
       "      <td>Mezzanine</td>\n",
       "      <td>https://www.discogs.com/master/23683-Massive-A...</td>\n",
       "      <td>https://www.discogs.com/artist/4480-Massive-At...</td>\n",
       "      <td>13.0</td>\n",
       "      <td>5739.0</td>\n",
       "      <td>7497.0</td>\n",
       "      <td>4.68</td>\n",
       "      <td>1017.0</td>\n",
       "      <td>75.00</td>\n",
       "      <td>136.25</td>\n",
       "      <td>243.18</td>\n",
       "      <td>35.0</td>\n",
       "      <td>24</td>\n",
       "      <td>1.306325</td>\n",
       "    </tr>\n",
       "    <tr>\n",
       "      <th>266</th>\n",
       "      <td>266</td>\n",
       "      <td>1976</td>\n",
       "      <td>Ramones</td>\n",
       "      <td>https://www.discogs.com/master/39341-Ramones-R...</td>\n",
       "      <td>https://www.discogs.com/artist/135478-Ramones</td>\n",
       "      <td>31.0</td>\n",
       "      <td>4296.0</td>\n",
       "      <td>5282.0</td>\n",
       "      <td>4.60</td>\n",
       "      <td>486.0</td>\n",
       "      <td>47.30</td>\n",
       "      <td>140.00</td>\n",
       "      <td>511.36</td>\n",
       "      <td>15.0</td>\n",
       "      <td>46</td>\n",
       "      <td>1.229516</td>\n",
       "    </tr>\n",
       "    <tr>\n",
       "      <th>270</th>\n",
       "      <td>270</td>\n",
       "      <td>1974</td>\n",
       "      <td>Autobahn</td>\n",
       "      <td>https://www.discogs.com/master/2994-Kraftwerk-...</td>\n",
       "      <td>https://www.discogs.com/artist/4654-Kraftwerk</td>\n",
       "      <td>19.0</td>\n",
       "      <td>5959.0</td>\n",
       "      <td>3014.0</td>\n",
       "      <td>4.41</td>\n",
       "      <td>790.0</td>\n",
       "      <td>17.05</td>\n",
       "      <td>70.45</td>\n",
       "      <td>126.02</td>\n",
       "      <td>74.0</td>\n",
       "      <td>48</td>\n",
       "      <td>0.505790</td>\n",
       "    </tr>\n",
       "    <tr>\n",
       "      <th>277</th>\n",
       "      <td>277</td>\n",
       "      <td>1969</td>\n",
       "      <td>Yellow Submarine</td>\n",
       "      <td>https://www.discogs.com/master/54565-The-Beatl...</td>\n",
       "      <td>https://www.discogs.com/artist/82730-The-Beatles</td>\n",
       "      <td>157.0</td>\n",
       "      <td>4046.0</td>\n",
       "      <td>2429.0</td>\n",
       "      <td>4.04</td>\n",
       "      <td>359.0</td>\n",
       "      <td>56.82</td>\n",
       "      <td>108.09</td>\n",
       "      <td>180.62</td>\n",
       "      <td>30.0</td>\n",
       "      <td>53</td>\n",
       "      <td>0.600346</td>\n",
       "    </tr>\n",
       "    <tr>\n",
       "      <th>286</th>\n",
       "      <td>286</td>\n",
       "      <td>2015</td>\n",
       "      <td>Currents</td>\n",
       "      <td>https://www.discogs.com/master/861083-Tame-Imp...</td>\n",
       "      <td>https://www.discogs.com/artist/1245513-Tame-Im...</td>\n",
       "      <td>5.0</td>\n",
       "      <td>4735.0</td>\n",
       "      <td>3012.0</td>\n",
       "      <td>4.56</td>\n",
       "      <td>482.0</td>\n",
       "      <td>49.44</td>\n",
       "      <td>95.00</td>\n",
       "      <td>250.00</td>\n",
       "      <td>6.0</td>\n",
       "      <td>7</td>\n",
       "      <td>0.636114</td>\n",
       "    </tr>\n",
       "  </tbody>\n",
       "</table>\n",
       "</div>"
      ],
      "text/plain": [
       "     Unnamed: 0  album_release_year                       album_name  \\\n",
       "7             7                1971                        Untitled    \n",
       "8             8                1968                      The Beatles   \n",
       "12           12                1966                         Revolver   \n",
       "13           13                1959                     Kind Of Blue   \n",
       "20           20                1987         Appetite For Destruction   \n",
       "39           39                1986                Master Of Puppets   \n",
       "52           52                1979                Unknown Pleasures   \n",
       "60           60                1970                    Black Sabbath   \n",
       "66           66                1992         Rage Against The Machine   \n",
       "70           70                1983                     Kill 'Em All   \n",
       "75           75                1971                       Hunky Dory   \n",
       "90           90                1993  Enter The Wu-Tang (36 Chambers)   \n",
       "96           96                1989                           Bleach   \n",
       "121         121                1967               Axis: Bold As Love   \n",
       "131         131                1968                  Beggars Banquet   \n",
       "186         186                2001                        Discovery   \n",
       "199         199                1970             All Things Must Pass   \n",
       "201         201                1963                 With The Beatles   \n",
       "207         207                1970       The Man Who Sold The World   \n",
       "217         217                1969                      David Bowie   \n",
       "223         223                1991                     Achtung Baby   \n",
       "227         227                1998                        Mezzanine   \n",
       "266         266                1976                          Ramones   \n",
       "270         270                1974                         Autobahn   \n",
       "277         277                1969                 Yellow Submarine   \n",
       "286         286                2015                         Currents   \n",
       "\n",
       "                                            album_link  \\\n",
       "7    https://www.discogs.com/master/4300-Led-Zeppel...   \n",
       "8    https://www.discogs.com/master/46402-The-Beatl...   \n",
       "12   https://www.discogs.com/master/45284-The-Beatl...   \n",
       "13   https://www.discogs.com/master/5460-Miles-Davi...   \n",
       "20   https://www.discogs.com/master/9467-Guns-N-Ros...   \n",
       "39   https://www.discogs.com/master/6495-Metallica-...   \n",
       "52   https://www.discogs.com/master/4805-Joy-Divisi...   \n",
       "60   https://www.discogs.com/master/723-Black-Sabba...   \n",
       "66   https://www.discogs.com/master/7939-Rage-Again...   \n",
       "70   https://www.discogs.com/master/6387-Metallica-...   \n",
       "75   https://www.discogs.com/master/1718-David-Bowi...   \n",
       "90   https://www.discogs.com/master/25303-Wu-Tang-C...   \n",
       "96   https://www.discogs.com/master/13773-Nirvana-B...   \n",
       "121  https://www.discogs.com/master/24511-The-Jimi-...   \n",
       "131  https://www.discogs.com/master/30220-Rolling-S...   \n",
       "186  https://www.discogs.com/master/26647-Daft-Punk...   \n",
       "199  https://www.discogs.com/master/56036-George-Ha...   \n",
       "201  https://www.discogs.com/master/45729-The-Beatl...   \n",
       "207  https://www.discogs.com/master/1929-David-Bowi...   \n",
       "217  https://www.discogs.com/master/32337-David-Bow...   \n",
       "223  https://www.discogs.com/master/20774-U2-Achtun...   \n",
       "227  https://www.discogs.com/master/23683-Massive-A...   \n",
       "266  https://www.discogs.com/master/39341-Ramones-R...   \n",
       "270  https://www.discogs.com/master/2994-Kraftwerk-...   \n",
       "277  https://www.discogs.com/master/54565-The-Beatl...   \n",
       "286  https://www.discogs.com/master/861083-Tame-Imp...   \n",
       "\n",
       "                                     album_artist_link  total_albums_artist  \\\n",
       "7    https://www.discogs.com/artist/34278-Led-Zeppelin                 61.0   \n",
       "8     https://www.discogs.com/artist/82730-The-Beatles                157.0   \n",
       "12    https://www.discogs.com/artist/82730-The-Beatles                157.0   \n",
       "13    https://www.discogs.com/artist/23755-Miles-Davis                155.0   \n",
       "20   https://www.discogs.com/artist/124535-Guns-N-R...                 17.0   \n",
       "39      https://www.discogs.com/artist/18839-Metallica                134.0   \n",
       "52    https://www.discogs.com/artist/3898-Joy-Division                  8.0   \n",
       "60   https://www.discogs.com/artist/144998-Black-Sa...                 36.0   \n",
       "66   https://www.discogs.com/artist/12212-Rage-Agai...                 11.0   \n",
       "70      https://www.discogs.com/artist/18839-Metallica                134.0   \n",
       "75    https://www.discogs.com/artist/10263-David-Bowie                 95.0   \n",
       "90   https://www.discogs.com/artist/11213-Wu-Tang-Clan                 15.0   \n",
       "96       https://www.discogs.com/artist/125246-Nirvana                  8.0   \n",
       "121  https://www.discogs.com/artist/255672-The-Jimi...                 30.0   \n",
       "131  https://www.discogs.com/artist/20991-The-Rolli...                107.0   \n",
       "186      https://www.discogs.com/artist/1289-Daft-Punk                  9.0   \n",
       "199  https://www.discogs.com/artist/243955-George-H...                 33.0   \n",
       "201   https://www.discogs.com/artist/82730-The-Beatles                157.0   \n",
       "207   https://www.discogs.com/artist/10263-David-Bowie                 95.0   \n",
       "217   https://www.discogs.com/artist/10263-David-Bowie                 95.0   \n",
       "223             https://www.discogs.com/artist/6520-U2                 71.0   \n",
       "227  https://www.discogs.com/artist/4480-Massive-At...                 13.0   \n",
       "266      https://www.discogs.com/artist/135478-Ramones                 31.0   \n",
       "270      https://www.discogs.com/artist/4654-Kraftwerk                 19.0   \n",
       "277   https://www.discogs.com/artist/82730-The-Beatles                157.0   \n",
       "286  https://www.discogs.com/artist/1245513-Tame-Im...                  5.0   \n",
       "\n",
       "     users_have  users_want  user_rating  total_rating  lowest_price  \\\n",
       "7         752.0      1034.0         4.55         108.0         37.84   \n",
       "8         931.0       731.0         4.47          80.0         32.45   \n",
       "12       3179.0      1655.0         4.65         396.0         27.00   \n",
       "13       1840.0      3586.0         4.73         315.0         39.99   \n",
       "20       3543.0      4730.0         4.55         483.0          5.00   \n",
       "39       2382.0      1104.0         4.63         281.0         43.77   \n",
       "52       7184.0      7470.0         4.70        1183.0         74.66   \n",
       "60       3421.0      5465.0         4.54         586.0         95.02   \n",
       "66       4473.0      7147.0         4.69         536.0         75.00   \n",
       "70       1641.0       858.0         4.47         194.0         34.03   \n",
       "75       3462.0      4632.0         4.49         426.0         20.35   \n",
       "90      19838.0     12956.0         4.69        2221.0         12.00   \n",
       "96       4992.0      2363.0         4.31         496.0         54.05   \n",
       "121      2316.0      3413.0         4.40         260.0         51.13   \n",
       "131       228.0       542.0         4.58          38.0         15.00   \n",
       "186     20639.0     13459.0         4.59        2801.0         18.00   \n",
       "199      7905.0      3863.0         4.43         735.0         20.00   \n",
       "201      2002.0      1008.0         4.28         250.0         27.03   \n",
       "207      4760.0      2738.0         4.27         492.0         25.49   \n",
       "217       130.0       782.0         4.29          17.0        170.45   \n",
       "223       279.0       880.0         4.42          55.0         50.00   \n",
       "227      5739.0      7497.0         4.68        1017.0         75.00   \n",
       "266      4296.0      5282.0         4.60         486.0         47.30   \n",
       "270      5959.0      3014.0         4.41         790.0         17.05   \n",
       "277      4046.0      2429.0         4.04         359.0         56.82   \n",
       "286      4735.0      3012.0         4.56         482.0         49.44   \n",
       "\n",
       "     median_price  highest_price  total_versions  years_since_release  \\\n",
       "7          114.86         202.64            22.0                   51   \n",
       "8           91.23         216.35             6.0                   54   \n",
       "12         105.19         590.91            27.0                   56   \n",
       "13         132.72         299.95             7.0                   63   \n",
       "20         230.00         499.00            13.0                   35   \n",
       "39          73.86         113.64            16.0                   36   \n",
       "52         183.64         339.77             7.0                   43   \n",
       "60         271.49         153.85            19.0                   52   \n",
       "66         198.86         454.53            12.0                   30   \n",
       "70          74.43         107.95             3.0                   39   \n",
       "75         369.31          85.96             2.0                   51   \n",
       "90          87.25         738.64            52.0                   29   \n",
       "96         101.14         399.00            40.0                   33   \n",
       "121        135.13         567.57            49.0                   55   \n",
       "131         72.97         202.70             3.0                   54   \n",
       "186        149.32         371.62            45.0                   21   \n",
       "199         94.58         227.27            41.0                   52   \n",
       "201        129.54         300.00            15.0                   59   \n",
       "207        102.16         289.95            31.0                   52   \n",
       "217        340.34         738.64             2.0                   53   \n",
       "223        113.64         200.00             2.0                   31   \n",
       "227        136.25         243.18            35.0                   24   \n",
       "266        140.00         511.36            15.0                   46   \n",
       "270         70.45         126.02            74.0                   48   \n",
       "277        108.09         180.62            30.0                   53   \n",
       "286         95.00         250.00             6.0                    7   \n",
       "\n",
       "       rarity  \n",
       "7    1.375000  \n",
       "8    0.785177  \n",
       "12   0.520604  \n",
       "13   1.948913  \n",
       "20   1.335027  \n",
       "39   0.463476  \n",
       "52   1.039811  \n",
       "60   1.597486  \n",
       "66   1.597809  \n",
       "70   0.522852  \n",
       "75   1.337955  \n",
       "90   0.653090  \n",
       "96   0.473357  \n",
       "121  1.473661  \n",
       "131  2.377193  \n",
       "186  0.652115  \n",
       "199  0.488678  \n",
       "201  0.503497  \n",
       "207  0.575210  \n",
       "217  6.015385  \n",
       "223  3.154122  \n",
       "227  1.306325  \n",
       "266  1.229516  \n",
       "270  0.505790  \n",
       "277  0.600346  \n",
       "286  0.636114  "
      ]
     },
     "execution_count": 213,
     "metadata": {},
     "output_type": "execute_result"
    }
   ],
   "source": [
    "df_f[df_f['median_price'] > 70]"
   ]
  },
  {
   "cell_type": "code",
   "execution_count": 219,
   "metadata": {},
   "outputs": [
    {
     "data": {
      "text/html": [
       "<div>\n",
       "<style scoped>\n",
       "    .dataframe tbody tr th:only-of-type {\n",
       "        vertical-align: middle;\n",
       "    }\n",
       "\n",
       "    .dataframe tbody tr th {\n",
       "        vertical-align: top;\n",
       "    }\n",
       "\n",
       "    .dataframe thead th {\n",
       "        text-align: right;\n",
       "    }\n",
       "</style>\n",
       "<table border=\"1\" class=\"dataframe\">\n",
       "  <thead>\n",
       "    <tr style=\"text-align: right;\">\n",
       "      <th></th>\n",
       "      <th>Unnamed: 0</th>\n",
       "      <th>album_release_year</th>\n",
       "      <th>album_name</th>\n",
       "      <th>album_link</th>\n",
       "      <th>album_artist_link</th>\n",
       "      <th>total_albums_artist</th>\n",
       "      <th>users_have</th>\n",
       "      <th>users_want</th>\n",
       "      <th>user_rating</th>\n",
       "      <th>total_rating</th>\n",
       "      <th>lowest_price</th>\n",
       "      <th>median_price</th>\n",
       "      <th>highest_price</th>\n",
       "      <th>total_versions</th>\n",
       "      <th>years_since_release</th>\n",
       "      <th>rarity</th>\n",
       "    </tr>\n",
       "  </thead>\n",
       "  <tbody>\n",
       "    <tr>\n",
       "      <th>7</th>\n",
       "      <td>7</td>\n",
       "      <td>1971</td>\n",
       "      <td>Untitled</td>\n",
       "      <td>https://www.discogs.com/master/4300-Led-Zeppel...</td>\n",
       "      <td>https://www.discogs.com/artist/34278-Led-Zeppelin</td>\n",
       "      <td>61.0</td>\n",
       "      <td>752.0</td>\n",
       "      <td>1034.0</td>\n",
       "      <td>4.55</td>\n",
       "      <td>108.0</td>\n",
       "      <td>37.84</td>\n",
       "      <td>114.86</td>\n",
       "      <td>202.64</td>\n",
       "      <td>22.0</td>\n",
       "      <td>51</td>\n",
       "      <td>1.375000</td>\n",
       "    </tr>\n",
       "    <tr>\n",
       "      <th>13</th>\n",
       "      <td>13</td>\n",
       "      <td>1959</td>\n",
       "      <td>Kind Of Blue</td>\n",
       "      <td>https://www.discogs.com/master/5460-Miles-Davi...</td>\n",
       "      <td>https://www.discogs.com/artist/23755-Miles-Davis</td>\n",
       "      <td>155.0</td>\n",
       "      <td>1840.0</td>\n",
       "      <td>3586.0</td>\n",
       "      <td>4.73</td>\n",
       "      <td>315.0</td>\n",
       "      <td>39.99</td>\n",
       "      <td>132.72</td>\n",
       "      <td>299.95</td>\n",
       "      <td>7.0</td>\n",
       "      <td>63</td>\n",
       "      <td>1.948913</td>\n",
       "    </tr>\n",
       "    <tr>\n",
       "      <th>20</th>\n",
       "      <td>20</td>\n",
       "      <td>1987</td>\n",
       "      <td>Appetite For Destruction</td>\n",
       "      <td>https://www.discogs.com/master/9467-Guns-N-Ros...</td>\n",
       "      <td>https://www.discogs.com/artist/124535-Guns-N-R...</td>\n",
       "      <td>17.0</td>\n",
       "      <td>3543.0</td>\n",
       "      <td>4730.0</td>\n",
       "      <td>4.55</td>\n",
       "      <td>483.0</td>\n",
       "      <td>5.00</td>\n",
       "      <td>230.00</td>\n",
       "      <td>499.00</td>\n",
       "      <td>13.0</td>\n",
       "      <td>35</td>\n",
       "      <td>1.335027</td>\n",
       "    </tr>\n",
       "    <tr>\n",
       "      <th>52</th>\n",
       "      <td>52</td>\n",
       "      <td>1979</td>\n",
       "      <td>Unknown Pleasures</td>\n",
       "      <td>https://www.discogs.com/master/4805-Joy-Divisi...</td>\n",
       "      <td>https://www.discogs.com/artist/3898-Joy-Division</td>\n",
       "      <td>8.0</td>\n",
       "      <td>7184.0</td>\n",
       "      <td>7470.0</td>\n",
       "      <td>4.70</td>\n",
       "      <td>1183.0</td>\n",
       "      <td>74.66</td>\n",
       "      <td>183.64</td>\n",
       "      <td>339.77</td>\n",
       "      <td>7.0</td>\n",
       "      <td>43</td>\n",
       "      <td>1.039811</td>\n",
       "    </tr>\n",
       "    <tr>\n",
       "      <th>60</th>\n",
       "      <td>60</td>\n",
       "      <td>1970</td>\n",
       "      <td>Black Sabbath</td>\n",
       "      <td>https://www.discogs.com/master/723-Black-Sabba...</td>\n",
       "      <td>https://www.discogs.com/artist/144998-Black-Sa...</td>\n",
       "      <td>36.0</td>\n",
       "      <td>3421.0</td>\n",
       "      <td>5465.0</td>\n",
       "      <td>4.54</td>\n",
       "      <td>586.0</td>\n",
       "      <td>95.02</td>\n",
       "      <td>271.49</td>\n",
       "      <td>153.85</td>\n",
       "      <td>19.0</td>\n",
       "      <td>52</td>\n",
       "      <td>1.597486</td>\n",
       "    </tr>\n",
       "    <tr>\n",
       "      <th>66</th>\n",
       "      <td>66</td>\n",
       "      <td>1992</td>\n",
       "      <td>Rage Against The Machine</td>\n",
       "      <td>https://www.discogs.com/master/7939-Rage-Again...</td>\n",
       "      <td>https://www.discogs.com/artist/12212-Rage-Agai...</td>\n",
       "      <td>11.0</td>\n",
       "      <td>4473.0</td>\n",
       "      <td>7147.0</td>\n",
       "      <td>4.69</td>\n",
       "      <td>536.0</td>\n",
       "      <td>75.00</td>\n",
       "      <td>198.86</td>\n",
       "      <td>454.53</td>\n",
       "      <td>12.0</td>\n",
       "      <td>30</td>\n",
       "      <td>1.597809</td>\n",
       "    </tr>\n",
       "    <tr>\n",
       "      <th>75</th>\n",
       "      <td>75</td>\n",
       "      <td>1971</td>\n",
       "      <td>Hunky Dory</td>\n",
       "      <td>https://www.discogs.com/master/1718-David-Bowi...</td>\n",
       "      <td>https://www.discogs.com/artist/10263-David-Bowie</td>\n",
       "      <td>95.0</td>\n",
       "      <td>3462.0</td>\n",
       "      <td>4632.0</td>\n",
       "      <td>4.49</td>\n",
       "      <td>426.0</td>\n",
       "      <td>20.35</td>\n",
       "      <td>369.31</td>\n",
       "      <td>85.96</td>\n",
       "      <td>2.0</td>\n",
       "      <td>51</td>\n",
       "      <td>1.337955</td>\n",
       "    </tr>\n",
       "    <tr>\n",
       "      <th>121</th>\n",
       "      <td>121</td>\n",
       "      <td>1967</td>\n",
       "      <td>Axis: Bold As Love</td>\n",
       "      <td>https://www.discogs.com/master/24511-The-Jimi-...</td>\n",
       "      <td>https://www.discogs.com/artist/255672-The-Jimi...</td>\n",
       "      <td>30.0</td>\n",
       "      <td>2316.0</td>\n",
       "      <td>3413.0</td>\n",
       "      <td>4.40</td>\n",
       "      <td>260.0</td>\n",
       "      <td>51.13</td>\n",
       "      <td>135.13</td>\n",
       "      <td>567.57</td>\n",
       "      <td>49.0</td>\n",
       "      <td>55</td>\n",
       "      <td>1.473661</td>\n",
       "    </tr>\n",
       "    <tr>\n",
       "      <th>186</th>\n",
       "      <td>186</td>\n",
       "      <td>2001</td>\n",
       "      <td>Discovery</td>\n",
       "      <td>https://www.discogs.com/master/26647-Daft-Punk...</td>\n",
       "      <td>https://www.discogs.com/artist/1289-Daft-Punk</td>\n",
       "      <td>9.0</td>\n",
       "      <td>20639.0</td>\n",
       "      <td>13459.0</td>\n",
       "      <td>4.59</td>\n",
       "      <td>2801.0</td>\n",
       "      <td>18.00</td>\n",
       "      <td>149.32</td>\n",
       "      <td>371.62</td>\n",
       "      <td>45.0</td>\n",
       "      <td>21</td>\n",
       "      <td>0.652115</td>\n",
       "    </tr>\n",
       "    <tr>\n",
       "      <th>201</th>\n",
       "      <td>201</td>\n",
       "      <td>1963</td>\n",
       "      <td>With The Beatles</td>\n",
       "      <td>https://www.discogs.com/master/45729-The-Beatl...</td>\n",
       "      <td>https://www.discogs.com/artist/82730-The-Beatles</td>\n",
       "      <td>157.0</td>\n",
       "      <td>2002.0</td>\n",
       "      <td>1008.0</td>\n",
       "      <td>4.28</td>\n",
       "      <td>250.0</td>\n",
       "      <td>27.03</td>\n",
       "      <td>129.54</td>\n",
       "      <td>300.00</td>\n",
       "      <td>15.0</td>\n",
       "      <td>59</td>\n",
       "      <td>0.503497</td>\n",
       "    </tr>\n",
       "    <tr>\n",
       "      <th>217</th>\n",
       "      <td>217</td>\n",
       "      <td>1969</td>\n",
       "      <td>David Bowie</td>\n",
       "      <td>https://www.discogs.com/master/32337-David-Bow...</td>\n",
       "      <td>https://www.discogs.com/artist/10263-David-Bowie</td>\n",
       "      <td>95.0</td>\n",
       "      <td>130.0</td>\n",
       "      <td>782.0</td>\n",
       "      <td>4.29</td>\n",
       "      <td>17.0</td>\n",
       "      <td>170.45</td>\n",
       "      <td>340.34</td>\n",
       "      <td>738.64</td>\n",
       "      <td>2.0</td>\n",
       "      <td>53</td>\n",
       "      <td>6.015385</td>\n",
       "    </tr>\n",
       "    <tr>\n",
       "      <th>223</th>\n",
       "      <td>223</td>\n",
       "      <td>1991</td>\n",
       "      <td>Achtung Baby</td>\n",
       "      <td>https://www.discogs.com/master/20774-U2-Achtun...</td>\n",
       "      <td>https://www.discogs.com/artist/6520-U2</td>\n",
       "      <td>71.0</td>\n",
       "      <td>279.0</td>\n",
       "      <td>880.0</td>\n",
       "      <td>4.42</td>\n",
       "      <td>55.0</td>\n",
       "      <td>50.00</td>\n",
       "      <td>113.64</td>\n",
       "      <td>200.00</td>\n",
       "      <td>2.0</td>\n",
       "      <td>31</td>\n",
       "      <td>3.154122</td>\n",
       "    </tr>\n",
       "    <tr>\n",
       "      <th>227</th>\n",
       "      <td>227</td>\n",
       "      <td>1998</td>\n",
       "      <td>Mezzanine</td>\n",
       "      <td>https://www.discogs.com/master/23683-Massive-A...</td>\n",
       "      <td>https://www.discogs.com/artist/4480-Massive-At...</td>\n",
       "      <td>13.0</td>\n",
       "      <td>5739.0</td>\n",
       "      <td>7497.0</td>\n",
       "      <td>4.68</td>\n",
       "      <td>1017.0</td>\n",
       "      <td>75.00</td>\n",
       "      <td>136.25</td>\n",
       "      <td>243.18</td>\n",
       "      <td>35.0</td>\n",
       "      <td>24</td>\n",
       "      <td>1.306325</td>\n",
       "    </tr>\n",
       "    <tr>\n",
       "      <th>266</th>\n",
       "      <td>266</td>\n",
       "      <td>1976</td>\n",
       "      <td>Ramones</td>\n",
       "      <td>https://www.discogs.com/master/39341-Ramones-R...</td>\n",
       "      <td>https://www.discogs.com/artist/135478-Ramones</td>\n",
       "      <td>31.0</td>\n",
       "      <td>4296.0</td>\n",
       "      <td>5282.0</td>\n",
       "      <td>4.60</td>\n",
       "      <td>486.0</td>\n",
       "      <td>47.30</td>\n",
       "      <td>140.00</td>\n",
       "      <td>511.36</td>\n",
       "      <td>15.0</td>\n",
       "      <td>46</td>\n",
       "      <td>1.229516</td>\n",
       "    </tr>\n",
       "  </tbody>\n",
       "</table>\n",
       "</div>"
      ],
      "text/plain": [
       "     Unnamed: 0  album_release_year                album_name  \\\n",
       "7             7                1971                 Untitled    \n",
       "13           13                1959              Kind Of Blue   \n",
       "20           20                1987  Appetite For Destruction   \n",
       "52           52                1979         Unknown Pleasures   \n",
       "60           60                1970             Black Sabbath   \n",
       "66           66                1992  Rage Against The Machine   \n",
       "75           75                1971                Hunky Dory   \n",
       "121         121                1967        Axis: Bold As Love   \n",
       "186         186                2001                 Discovery   \n",
       "201         201                1963          With The Beatles   \n",
       "217         217                1969               David Bowie   \n",
       "223         223                1991              Achtung Baby   \n",
       "227         227                1998                 Mezzanine   \n",
       "266         266                1976                   Ramones   \n",
       "\n",
       "                                            album_link  \\\n",
       "7    https://www.discogs.com/master/4300-Led-Zeppel...   \n",
       "13   https://www.discogs.com/master/5460-Miles-Davi...   \n",
       "20   https://www.discogs.com/master/9467-Guns-N-Ros...   \n",
       "52   https://www.discogs.com/master/4805-Joy-Divisi...   \n",
       "60   https://www.discogs.com/master/723-Black-Sabba...   \n",
       "66   https://www.discogs.com/master/7939-Rage-Again...   \n",
       "75   https://www.discogs.com/master/1718-David-Bowi...   \n",
       "121  https://www.discogs.com/master/24511-The-Jimi-...   \n",
       "186  https://www.discogs.com/master/26647-Daft-Punk...   \n",
       "201  https://www.discogs.com/master/45729-The-Beatl...   \n",
       "217  https://www.discogs.com/master/32337-David-Bow...   \n",
       "223  https://www.discogs.com/master/20774-U2-Achtun...   \n",
       "227  https://www.discogs.com/master/23683-Massive-A...   \n",
       "266  https://www.discogs.com/master/39341-Ramones-R...   \n",
       "\n",
       "                                     album_artist_link  total_albums_artist  \\\n",
       "7    https://www.discogs.com/artist/34278-Led-Zeppelin                 61.0   \n",
       "13    https://www.discogs.com/artist/23755-Miles-Davis                155.0   \n",
       "20   https://www.discogs.com/artist/124535-Guns-N-R...                 17.0   \n",
       "52    https://www.discogs.com/artist/3898-Joy-Division                  8.0   \n",
       "60   https://www.discogs.com/artist/144998-Black-Sa...                 36.0   \n",
       "66   https://www.discogs.com/artist/12212-Rage-Agai...                 11.0   \n",
       "75    https://www.discogs.com/artist/10263-David-Bowie                 95.0   \n",
       "121  https://www.discogs.com/artist/255672-The-Jimi...                 30.0   \n",
       "186      https://www.discogs.com/artist/1289-Daft-Punk                  9.0   \n",
       "201   https://www.discogs.com/artist/82730-The-Beatles                157.0   \n",
       "217   https://www.discogs.com/artist/10263-David-Bowie                 95.0   \n",
       "223             https://www.discogs.com/artist/6520-U2                 71.0   \n",
       "227  https://www.discogs.com/artist/4480-Massive-At...                 13.0   \n",
       "266      https://www.discogs.com/artist/135478-Ramones                 31.0   \n",
       "\n",
       "     users_have  users_want  user_rating  total_rating  lowest_price  \\\n",
       "7         752.0      1034.0         4.55         108.0         37.84   \n",
       "13       1840.0      3586.0         4.73         315.0         39.99   \n",
       "20       3543.0      4730.0         4.55         483.0          5.00   \n",
       "52       7184.0      7470.0         4.70        1183.0         74.66   \n",
       "60       3421.0      5465.0         4.54         586.0         95.02   \n",
       "66       4473.0      7147.0         4.69         536.0         75.00   \n",
       "75       3462.0      4632.0         4.49         426.0         20.35   \n",
       "121      2316.0      3413.0         4.40         260.0         51.13   \n",
       "186     20639.0     13459.0         4.59        2801.0         18.00   \n",
       "201      2002.0      1008.0         4.28         250.0         27.03   \n",
       "217       130.0       782.0         4.29          17.0        170.45   \n",
       "223       279.0       880.0         4.42          55.0         50.00   \n",
       "227      5739.0      7497.0         4.68        1017.0         75.00   \n",
       "266      4296.0      5282.0         4.60         486.0         47.30   \n",
       "\n",
       "     median_price  highest_price  total_versions  years_since_release  \\\n",
       "7          114.86         202.64            22.0                   51   \n",
       "13         132.72         299.95             7.0                   63   \n",
       "20         230.00         499.00            13.0                   35   \n",
       "52         183.64         339.77             7.0                   43   \n",
       "60         271.49         153.85            19.0                   52   \n",
       "66         198.86         454.53            12.0                   30   \n",
       "75         369.31          85.96             2.0                   51   \n",
       "121        135.13         567.57            49.0                   55   \n",
       "186        149.32         371.62            45.0                   21   \n",
       "201        129.54         300.00            15.0                   59   \n",
       "217        340.34         738.64             2.0                   53   \n",
       "223        113.64         200.00             2.0                   31   \n",
       "227        136.25         243.18            35.0                   24   \n",
       "266        140.00         511.36            15.0                   46   \n",
       "\n",
       "       rarity  \n",
       "7    1.375000  \n",
       "13   1.948913  \n",
       "20   1.335027  \n",
       "52   1.039811  \n",
       "60   1.597486  \n",
       "66   1.597809  \n",
       "75   1.337955  \n",
       "121  1.473661  \n",
       "186  0.652115  \n",
       "201  0.503497  \n",
       "217  6.015385  \n",
       "223  3.154122  \n",
       "227  1.306325  \n",
       "266  1.229516  "
      ]
     },
     "execution_count": 219,
     "metadata": {},
     "output_type": "execute_result"
    }
   ],
   "source": [
    "df_f[df_f['median_price'] > 110]"
   ]
  },
  {
   "cell_type": "code",
   "execution_count": 221,
   "metadata": {},
   "outputs": [
    {
     "name": "stdout",
     "output_type": "stream",
     "text": [
      "108.92249999999989\n"
     ]
    }
   ],
   "source": [
    "print(df_f['median_price'].quantile(0.95))"
   ]
  },
  {
   "cell_type": "code",
   "execution_count": null,
   "metadata": {},
   "outputs": [],
   "source": []
  }
 ],
 "metadata": {
  "kernelspec": {
   "display_name": "Python 3",
   "language": "python",
   "name": "python3"
  },
  "language_info": {
   "codemirror_mode": {
    "name": "ipython",
    "version": 3
   },
   "file_extension": ".py",
   "mimetype": "text/x-python",
   "name": "python",
   "nbconvert_exporter": "python",
   "pygments_lexer": "ipython3",
   "version": "3.8.5"
  }
 },
 "nbformat": 4,
 "nbformat_minor": 4
}
